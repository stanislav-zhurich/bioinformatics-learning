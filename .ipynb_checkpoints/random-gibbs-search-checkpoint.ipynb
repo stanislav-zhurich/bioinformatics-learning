{
 "cells": [
  {
   "cell_type": "code",
   "execution_count": 32,
   "id": "dcc1396e",
   "metadata": {},
   "outputs": [],
   "source": [
    "import numpy as np\n",
    "from helpers.dna_message_finding_helper import *\n",
    "import random\n"
   ]
  },
  {
   "cell_type": "code",
   "execution_count": 33,
   "id": "616e5601",
   "metadata": {},
   "outputs": [],
   "source": [
    "def randomize_motif_search(dna_list, k, t):\n",
    "    k_mers = get_random_k_mers(dna_list, k)\n",
    "    best_motifes = k_mers\n",
    "    while True:\n",
    "        profile = get_profile_of_pattern(k_mers)\n",
    "        for i in range(0, len(k_mers)):\n",
    "            k_mers[i] = find_most_probable_k_mer(dna_list[i], profile, k)\n",
    "        new_score = find_score(k_mers, profile)\n",
    "        if find_score(k_mers, profile) > find_score(best_motifes, profile):\n",
    "            best_motifes = k_mers\n",
    "        else:\n",
    "            return best_motifes"
   ]
  },
  {
   "cell_type": "code",
   "execution_count": 34,
   "id": "63ae77cf",
   "metadata": {},
   "outputs": [
    {
     "ename": "NameError",
     "evalue": "name 'np' is not defined",
     "output_type": "error",
     "traceback": [
      "\u001b[1;31m---------------------------------------------------------------------------\u001b[0m",
      "\u001b[1;31mNameError\u001b[0m                                 Traceback (most recent call last)",
      "Cell \u001b[1;32mIn[34], line 2\u001b[0m\n\u001b[0;32m      1\u001b[0m string \u001b[38;5;241m=\u001b[39m \u001b[38;5;124m\"\u001b[39m\u001b[38;5;124mCGCCCCTCTCGGGGGTGTTCAGTAAACGGCCA GGGCGAGGTATGTGTAAGTGCCAAGGTGCCAG TAGTACCGAGACCGAAAGAAGTATACAGGCGT TAGATCAAGTTTCAGGTGCACGTCGGTGAACC AATCCACCAGCTCCACGTGCAATGTTGGCCTA\u001b[39m\u001b[38;5;124m\"\u001b[39m\n\u001b[1;32m----> 2\u001b[0m \u001b[43mrandomize_motif_search\u001b[49m\u001b[43m(\u001b[49m\u001b[43mstring\u001b[49m\u001b[38;5;241;43m.\u001b[39;49m\u001b[43msplit\u001b[49m\u001b[43m(\u001b[49m\u001b[38;5;124;43m\"\u001b[39;49m\u001b[38;5;124;43m \u001b[39;49m\u001b[38;5;124;43m\"\u001b[39;49m\u001b[43m)\u001b[49m\u001b[43m,\u001b[49m\u001b[43m \u001b[49m\u001b[38;5;241;43m8\u001b[39;49m\u001b[43m,\u001b[49m\u001b[43m \u001b[49m\u001b[38;5;241;43m5\u001b[39;49m\u001b[43m)\u001b[49m\n",
      "Cell \u001b[1;32mIn[33], line 5\u001b[0m, in \u001b[0;36mrandomize_motif_search\u001b[1;34m(dna_list, k, t)\u001b[0m\n\u001b[0;32m      3\u001b[0m best_motifes \u001b[38;5;241m=\u001b[39m k_mers\n\u001b[0;32m      4\u001b[0m \u001b[38;5;28;01mwhile\u001b[39;00m \u001b[38;5;28;01mTrue\u001b[39;00m:\n\u001b[1;32m----> 5\u001b[0m     profile \u001b[38;5;241m=\u001b[39m \u001b[43mget_profile_of_pattern\u001b[49m\u001b[43m(\u001b[49m\u001b[43mk_mers\u001b[49m\u001b[43m)\u001b[49m\n\u001b[0;32m      6\u001b[0m     \u001b[38;5;28;01mfor\u001b[39;00m i \u001b[38;5;129;01min\u001b[39;00m \u001b[38;5;28mrange\u001b[39m(\u001b[38;5;241m0\u001b[39m, \u001b[38;5;28mlen\u001b[39m(k_mers)):\n\u001b[0;32m      7\u001b[0m         k_mers[i] \u001b[38;5;241m=\u001b[39m find_most_probable_k_mer(dna_list[i], profile, k)\n",
      "File \u001b[1;32md:\\Google Drive\\jupyter-projects\\bioinformatics-learning\\helpers\\dna_message_finding_helper.py:114\u001b[0m, in \u001b[0;36mget_profile_of_pattern\u001b[1;34m(k_mer_list)\u001b[0m\n\u001b[0;32m    111\u001b[0m \u001b[38;5;28;01mdef\u001b[39;00m \u001b[38;5;21mget_profile_of_pattern\u001b[39m(k_mer_list):\n\u001b[0;32m    113\u001b[0m     k_mer_len \u001b[38;5;241m=\u001b[39m \u001b[38;5;28mlen\u001b[39m(k_mer_list[\u001b[38;5;241m0\u001b[39m])\n\u001b[1;32m--> 114\u001b[0m     count \u001b[38;5;241m=\u001b[39m \u001b[43mnp\u001b[49m\u001b[38;5;241m.\u001b[39mzeros((\u001b[38;5;241m4\u001b[39m, k_mer_len))\n\u001b[0;32m    115\u001b[0m     \u001b[38;5;28;01mfor\u001b[39;00m i \u001b[38;5;129;01min\u001b[39;00m \u001b[38;5;28mrange\u001b[39m(\u001b[38;5;241m0\u001b[39m, k_mer_len):\n\u001b[0;32m    116\u001b[0m         column \u001b[38;5;241m=\u001b[39m [s[i] \u001b[38;5;28;01mfor\u001b[39;00m s \u001b[38;5;129;01min\u001b[39;00m k_mer_list]\n",
      "\u001b[1;31mNameError\u001b[0m: name 'np' is not defined"
     ]
    }
   ],
   "source": [
    "string = \"CGCCCCTCTCGGGGGTGTTCAGTAAACGGCCA GGGCGAGGTATGTGTAAGTGCCAAGGTGCCAG TAGTACCGAGACCGAAAGAAGTATACAGGCGT TAGATCAAGTTTCAGGTGCACGTCGGTGAACC AATCCACCAGCTCCACGTGCAATGTTGGCCTA\"\n",
    "randomize_motif_search(string.split(\" \"), 8, 5)"
   ]
  },
  {
   "cell_type": "code",
   "execution_count": 15,
   "id": "6e0b2949",
   "metadata": {},
   "outputs": [],
   "source": [
    "def get_random_k_mers(dna_list, k):\n",
    "    random.seed(42)\n",
    "    random_k_mers = []\n",
    "    for i in range(0, len(dna_list)):   \n",
    "        string_len = len(dna_list[i])\n",
    "        random_number = random.randint(0, string_len - k)\n",
    "        k_mer = dna_list[i][random_number: random_number + k]\n",
    "        random_k_mers.append(k_mer)\n",
    "    return random_k_mers"
   ]
  },
  {
   "cell_type": "code",
   "execution_count": 18,
   "id": "1ebd7dcf",
   "metadata": {},
   "outputs": [
    {
     "data": {
      "text/plain": [
       "['AA', 'TG', 'TC']"
      ]
     },
     "execution_count": 18,
     "metadata": {},
     "output_type": "execute_result"
    }
   ],
   "source": [
    "get_random_k_mers([\"AAC\", \"TGC\", \"TTC\"], 2)"
   ]
  },
  {
   "cell_type": "code",
   "execution_count": null,
   "id": "09b498bf",
   "metadata": {},
   "outputs": [],
   "source": []
  }
 ],
 "metadata": {
  "kernelspec": {
   "display_name": "Python 3 (ipykernel)",
   "language": "python",
   "name": "python3"
  },
  "language_info": {
   "codemirror_mode": {
    "name": "ipython",
    "version": 3
   },
   "file_extension": ".py",
   "mimetype": "text/x-python",
   "name": "python",
   "nbconvert_exporter": "python",
   "pygments_lexer": "ipython3",
   "version": "3.11.5"
  }
 },
 "nbformat": 4,
 "nbformat_minor": 5
}
